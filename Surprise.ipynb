{
 "cells": [
  {
   "cell_type": "code",
   "execution_count": 103,
   "id": "339be2d6-539f-4d12-8d94-c55db8d5410c",
   "metadata": {},
   "outputs": [],
   "source": [
    "import pandas as pd\n",
    "from surprise import SVD\n",
    "from surprise import SVDpp\n",
    "from surprise import NMF\n",
    "from surprise import Reader\n",
    "from surprise import Dataset\n",
    "from surprise import accuracy\n",
    "from surprise.model_selection import cross_validate\n",
    "from surprise.model_selection import train_test_split"
   ]
  },
  {
   "cell_type": "markdown",
   "id": "a3cebc44-c0b5-44a4-bfdb-322dc6c8028d",
   "metadata": {},
   "source": [
    "# 데이터 생성"
   ]
  },
  {
   "cell_type": "code",
   "execution_count": 104,
   "id": "f34f562c-1e6d-4ead-983d-50025421febc",
   "metadata": {},
   "outputs": [
    {
     "data": {
      "text/html": [
       "<div>\n",
       "<style scoped>\n",
       "    .dataframe tbody tr th:only-of-type {\n",
       "        vertical-align: middle;\n",
       "    }\n",
       "\n",
       "    .dataframe tbody tr th {\n",
       "        vertical-align: top;\n",
       "    }\n",
       "\n",
       "    .dataframe thead th {\n",
       "        text-align: right;\n",
       "    }\n",
       "</style>\n",
       "<table border=\"1\" class=\"dataframe\">\n",
       "  <thead>\n",
       "    <tr style=\"text-align: right;\">\n",
       "      <th></th>\n",
       "      <th>user_id</th>\n",
       "      <th>business_id</th>\n",
       "      <th>stars</th>\n",
       "    </tr>\n",
       "  </thead>\n",
       "  <tbody>\n",
       "    <tr>\n",
       "      <th>0</th>\n",
       "      <td>_7bHUi9Uuf5__HHc_Q8guQ</td>\n",
       "      <td>kxX2SOes4o-D3ZQBkiMRfA</td>\n",
       "      <td>5</td>\n",
       "    </tr>\n",
       "    <tr>\n",
       "      <th>1</th>\n",
       "      <td>kSMOJwJXuEUqzfmuFncK4A</td>\n",
       "      <td>kxX2SOes4o-D3ZQBkiMRfA</td>\n",
       "      <td>2</td>\n",
       "    </tr>\n",
       "    <tr>\n",
       "      <th>2</th>\n",
       "      <td>mqBWACmaHflW4eh_Ofp16Q</td>\n",
       "      <td>kxX2SOes4o-D3ZQBkiMRfA</td>\n",
       "      <td>5</td>\n",
       "    </tr>\n",
       "    <tr>\n",
       "      <th>3</th>\n",
       "      <td>Z-xgVb4nM42943m2wbBkFw</td>\n",
       "      <td>kxX2SOes4o-D3ZQBkiMRfA</td>\n",
       "      <td>5</td>\n",
       "    </tr>\n",
       "    <tr>\n",
       "      <th>4</th>\n",
       "      <td>2SEoXb6r6hPKrl9V9VzBgA</td>\n",
       "      <td>kxX2SOes4o-D3ZQBkiMRfA</td>\n",
       "      <td>5</td>\n",
       "    </tr>\n",
       "    <tr>\n",
       "      <th>...</th>\n",
       "      <td>...</td>\n",
       "      <td>...</td>\n",
       "      <td>...</td>\n",
       "    </tr>\n",
       "    <tr>\n",
       "      <th>738683</th>\n",
       "      <td>reFwg-F-MCoRS1pA2YexMg</td>\n",
       "      <td>BEuGzy5gxtGyOEk8iwDfTg</td>\n",
       "      <td>5</td>\n",
       "    </tr>\n",
       "    <tr>\n",
       "      <th>738684</th>\n",
       "      <td>dh3UhfqpFSoCitl8WCrdfw</td>\n",
       "      <td>BEuGzy5gxtGyOEk8iwDfTg</td>\n",
       "      <td>5</td>\n",
       "    </tr>\n",
       "    <tr>\n",
       "      <th>738685</th>\n",
       "      <td>nXwPLYvazD_Nd2Sar3eSWA</td>\n",
       "      <td>BEuGzy5gxtGyOEk8iwDfTg</td>\n",
       "      <td>5</td>\n",
       "    </tr>\n",
       "    <tr>\n",
       "      <th>738686</th>\n",
       "      <td>MlOJCxiiB1TeZN-is2Q4SA</td>\n",
       "      <td>BEuGzy5gxtGyOEk8iwDfTg</td>\n",
       "      <td>5</td>\n",
       "    </tr>\n",
       "    <tr>\n",
       "      <th>738687</th>\n",
       "      <td>AKXL58tPS_jNdT5DH5NhhA</td>\n",
       "      <td>BEuGzy5gxtGyOEk8iwDfTg</td>\n",
       "      <td>5</td>\n",
       "    </tr>\n",
       "  </tbody>\n",
       "</table>\n",
       "<p>738688 rows × 3 columns</p>\n",
       "</div>"
      ],
      "text/plain": [
       "                       user_id             business_id  stars\n",
       "0       _7bHUi9Uuf5__HHc_Q8guQ  kxX2SOes4o-D3ZQBkiMRfA      5\n",
       "1       kSMOJwJXuEUqzfmuFncK4A  kxX2SOes4o-D3ZQBkiMRfA      2\n",
       "2       mqBWACmaHflW4eh_Ofp16Q  kxX2SOes4o-D3ZQBkiMRfA      5\n",
       "3       Z-xgVb4nM42943m2wbBkFw  kxX2SOes4o-D3ZQBkiMRfA      5\n",
       "4       2SEoXb6r6hPKrl9V9VzBgA  kxX2SOes4o-D3ZQBkiMRfA      5\n",
       "...                        ...                     ...    ...\n",
       "738683  reFwg-F-MCoRS1pA2YexMg  BEuGzy5gxtGyOEk8iwDfTg      5\n",
       "738684  dh3UhfqpFSoCitl8WCrdfw  BEuGzy5gxtGyOEk8iwDfTg      5\n",
       "738685  nXwPLYvazD_Nd2Sar3eSWA  BEuGzy5gxtGyOEk8iwDfTg      5\n",
       "738686  MlOJCxiiB1TeZN-is2Q4SA  BEuGzy5gxtGyOEk8iwDfTg      5\n",
       "738687  AKXL58tPS_jNdT5DH5NhhA  BEuGzy5gxtGyOEk8iwDfTg      5\n",
       "\n",
       "[738688 rows x 3 columns]"
      ]
     },
     "execution_count": 104,
     "metadata": {},
     "output_type": "execute_result"
    }
   ],
   "source": [
    "df = pd.read_csv(\"philadelphia_reviews.csv\")\n",
    "df"
   ]
  },
  {
   "cell_type": "code",
   "execution_count": 105,
   "id": "da6ea27a-1f0d-4bc5-b66d-e84b7554783d",
   "metadata": {},
   "outputs": [],
   "source": [
    "reader = Reader(rating_scale=(1, 5))"
   ]
  },
  {
   "cell_type": "code",
   "execution_count": 106,
   "id": "8eee6414-6645-48dc-9e98-8e29050218d6",
   "metadata": {},
   "outputs": [
    {
     "data": {
      "text/plain": [
       "<surprise.dataset.DatasetAutoFolds at 0x242ebde22d0>"
      ]
     },
     "execution_count": 106,
     "metadata": {},
     "output_type": "execute_result"
    }
   ],
   "source": [
    "data = Dataset.load_from_df(df[[\"user_id\", \"business_id\", \"stars\"]], reader=reader)\n",
    "data"
   ]
  },
  {
   "cell_type": "markdown",
   "id": "a3ecfe7b-affc-477f-a918-b19b8a86b60a",
   "metadata": {},
   "source": [
    "# Dataset 분리"
   ]
  },
  {
   "cell_type": "code",
   "execution_count": 107,
   "id": "52eff1f4-2c3a-4538-bbcd-96c86f10978b",
   "metadata": {},
   "outputs": [],
   "source": [
    "trainsset, testset = train_test_split(data, test_size=0.25)"
   ]
  },
  {
   "cell_type": "markdown",
   "id": "c645eefb-f5ec-4163-a72d-3a03c6d18e3f",
   "metadata": {},
   "source": [
    "# 훈련"
   ]
  },
  {
   "cell_type": "code",
   "execution_count": 108,
   "id": "52daa6d5-bb50-4e00-8b70-7934488acacb",
   "metadata": {},
   "outputs": [],
   "source": [
    "algo = SVD()"
   ]
  },
  {
   "cell_type": "code",
   "execution_count": 109,
   "id": "1b02468e-d169-4339-af93-aeb8bffb3b29",
   "metadata": {},
   "outputs": [
    {
     "data": {
      "text/plain": [
       "<surprise.prediction_algorithms.matrix_factorization.SVD at 0x242e05627d0>"
      ]
     },
     "execution_count": 109,
     "metadata": {},
     "output_type": "execute_result"
    }
   ],
   "source": [
    "algo.fit(trainsset)"
   ]
  },
  {
   "cell_type": "markdown",
   "id": "40c8607e-ebf1-492c-b7a2-179120a61146",
   "metadata": {},
   "source": [
    "# 테스트"
   ]
  },
  {
   "cell_type": "code",
   "execution_count": 110,
   "id": "5fecb135-91e1-4173-94f6-b99244e75f1d",
   "metadata": {},
   "outputs": [],
   "source": [
    "predictions=algo.test(testset)"
   ]
  },
  {
   "cell_type": "code",
   "execution_count": 111,
   "id": "63877a25-ce62-45c7-a0fb-8230ef8e56fb",
   "metadata": {},
   "outputs": [
    {
     "name": "stdout",
     "output_type": "stream",
     "text": [
      "RMSE: 1.1775\n"
     ]
    },
    {
     "data": {
      "text/plain": [
       "1.1774503077583924"
      ]
     },
     "execution_count": 111,
     "metadata": {},
     "output_type": "execute_result"
    }
   ],
   "source": [
    "accuracy.rmse(predictions)"
   ]
  },
  {
   "cell_type": "markdown",
   "id": "b8eee0b0-ee96-4e6e-9271-1a1a309bfca9",
   "metadata": {},
   "source": [
    "## 예측 평점 계산"
   ]
  },
  {
   "cell_type": "code",
   "execution_count": 112,
   "id": "a096877d-aa05-4963-ae28-a96415a55d41",
   "metadata": {},
   "outputs": [
    {
     "data": {
      "text/html": [
       "<div>\n",
       "<style scoped>\n",
       "    .dataframe tbody tr th:only-of-type {\n",
       "        vertical-align: middle;\n",
       "    }\n",
       "\n",
       "    .dataframe tbody tr th {\n",
       "        vertical-align: top;\n",
       "    }\n",
       "\n",
       "    .dataframe thead th {\n",
       "        text-align: right;\n",
       "    }\n",
       "</style>\n",
       "<table border=\"1\" class=\"dataframe\">\n",
       "  <thead>\n",
       "    <tr style=\"text-align: right;\">\n",
       "      <th></th>\n",
       "      <th>user_id</th>\n",
       "      <th>business_id</th>\n",
       "      <th>stars</th>\n",
       "    </tr>\n",
       "  </thead>\n",
       "  <tbody>\n",
       "    <tr>\n",
       "      <th>1</th>\n",
       "      <td>kSMOJwJXuEUqzfmuFncK4A</td>\n",
       "      <td>kxX2SOes4o-D3ZQBkiMRfA</td>\n",
       "      <td>2</td>\n",
       "    </tr>\n",
       "    <tr>\n",
       "      <th>37013</th>\n",
       "      <td>kSMOJwJXuEUqzfmuFncK4A</td>\n",
       "      <td>O6hY9yenifuRXrpc4TfgsQ</td>\n",
       "      <td>3</td>\n",
       "    </tr>\n",
       "    <tr>\n",
       "      <th>365018</th>\n",
       "      <td>kSMOJwJXuEUqzfmuFncK4A</td>\n",
       "      <td>YpV0DniZQKnG6mWVVl-TSw</td>\n",
       "      <td>3</td>\n",
       "    </tr>\n",
       "    <tr>\n",
       "      <th>413121</th>\n",
       "      <td>kSMOJwJXuEUqzfmuFncK4A</td>\n",
       "      <td>5ebgEvBg1-harVzszDA02g</td>\n",
       "      <td>5</td>\n",
       "    </tr>\n",
       "    <tr>\n",
       "      <th>568140</th>\n",
       "      <td>kSMOJwJXuEUqzfmuFncK4A</td>\n",
       "      <td>6KXJk2AWH3NxZBuCdkggVQ</td>\n",
       "      <td>3</td>\n",
       "    </tr>\n",
       "  </tbody>\n",
       "</table>\n",
       "</div>"
      ],
      "text/plain": [
       "                       user_id             business_id  stars\n",
       "1       kSMOJwJXuEUqzfmuFncK4A  kxX2SOes4o-D3ZQBkiMRfA      2\n",
       "37013   kSMOJwJXuEUqzfmuFncK4A  O6hY9yenifuRXrpc4TfgsQ      3\n",
       "365018  kSMOJwJXuEUqzfmuFncK4A  YpV0DniZQKnG6mWVVl-TSw      3\n",
       "413121  kSMOJwJXuEUqzfmuFncK4A  5ebgEvBg1-harVzszDA02g      5\n",
       "568140  kSMOJwJXuEUqzfmuFncK4A  6KXJk2AWH3NxZBuCdkggVQ      3"
      ]
     },
     "execution_count": 112,
     "metadata": {},
     "output_type": "execute_result"
    }
   ],
   "source": [
    "df[df.user_id == \"kSMOJwJXuEUqzfmuFncK4A\"]"
   ]
  },
  {
   "cell_type": "code",
   "execution_count": 121,
   "id": "2e89a2da-b853-4675-98fc-2ea997f85cd2",
   "metadata": {},
   "outputs": [
    {
     "data": {
      "text/plain": [
       "Prediction(uid='kSMOJwJXuEUqzfmuFncK4A', iid='5ebgEvBg1-harVzszDA02g', r_ui=5, est=3.479603105770406, details={'was_impossible': False})"
      ]
     },
     "execution_count": 121,
     "metadata": {},
     "output_type": "execute_result"
    }
   ],
   "source": [
    "algo.predict(\"kSMOJwJXuEUqzfmuFncK4A\", \"5ebgEvBg1-harVzszDA02g\", 5)"
   ]
  },
  {
   "cell_type": "code",
   "execution_count": 122,
   "id": "616d4d2f-2e10-446d-b778-a032fbbb1a51",
   "metadata": {},
   "outputs": [
    {
     "data": {
      "text/plain": [
       "Prediction(uid='kSMOJwJXuEUqzfmuFncK4A', iid='6KXJk2AWH3NxZBuCdkggVQ', r_ui=3, est=4.229428316136511, details={'was_impossible': False})"
      ]
     },
     "execution_count": 122,
     "metadata": {},
     "output_type": "execute_result"
    }
   ],
   "source": [
    "algo.predict(\"kSMOJwJXuEUqzfmuFncK4A\", \"6KXJk2AWH3NxZBuCdkggVQ\", 3)"
   ]
  },
  {
   "cell_type": "code",
   "execution_count": 123,
   "id": "28a10aa6-5798-4c21-8187-b2f1dcbd54b8",
   "metadata": {},
   "outputs": [
    {
     "data": {
      "text/plain": [
       "Prediction(uid='kSMOJwJXuEUqzfmuFncK4A', iid='kxX2SOes4o-D3ZQBkiMRfA', r_ui=3, est=3.42211416770208, details={'was_impossible': False})"
      ]
     },
     "execution_count": 123,
     "metadata": {},
     "output_type": "execute_result"
    }
   ],
   "source": [
    "algo.predict(\"kSMOJwJXuEUqzfmuFncK4A\", \"kxX2SOes4o-D3ZQBkiMRfA\", 3)"
   ]
  },
  {
   "cell_type": "code",
   "execution_count": null,
   "id": "cf3dd49d-1d6d-4c05-865a-028cdaaa35d1",
   "metadata": {},
   "outputs": [],
   "source": []
  }
 ],
 "metadata": {
  "kernelspec": {
   "display_name": "Python 3 (ipykernel)",
   "language": "python",
   "name": "python3"
  },
  "language_info": {
   "codemirror_mode": {
    "name": "ipython",
    "version": 3
   },
   "file_extension": ".py",
   "mimetype": "text/x-python",
   "name": "python",
   "nbconvert_exporter": "python",
   "pygments_lexer": "ipython3",
   "version": "3.11.7"
  }
 },
 "nbformat": 4,
 "nbformat_minor": 5
}
